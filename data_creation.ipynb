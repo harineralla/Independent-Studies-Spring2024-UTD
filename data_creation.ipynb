{
  "nbformat": 4,
  "nbformat_minor": 0,
  "metadata": {
    "colab": {
      "provenance": [],
      "mount_file_id": "1nM-QieZbtpw0GFtbopz4JSDiqoNS5PeS",
      "authorship_tag": "ABX9TyO7cl5CRXAQnPOUBfSi0vmb"
    },
    "kernelspec": {
      "name": "python3",
      "display_name": "Python 3"
    },
    "language_info": {
      "name": "python"
    }
  },
  "cells": [
    {
      "cell_type": "code",
      "execution_count": null,
      "metadata": {
        "id": "QGMuDD7SXS93"
      },
      "outputs": [],
      "source": [
        "import pandas as pd\n"
      ]
    },
    {
      "cell_type": "code",
      "source": [
        "df = pd.read_excel('/content/drive/MyDrive/Colab Notebooks/busplainer-test-50/independent-security-50.xlsx')"
      ],
      "metadata": {
        "id": "KhBLOIERiJDi"
      },
      "execution_count": null,
      "outputs": []
    },
    {
      "cell_type": "code",
      "source": [
        "print(df.info())"
      ],
      "metadata": {
        "colab": {
          "base_uri": "https://localhost:8080/"
        },
        "id": "BYvcHP7_YMGq",
        "outputId": "53afd7f1-0381-4685-d200-9228f636bf03"
      },
      "execution_count": null,
      "outputs": [
        {
          "output_type": "stream",
          "name": "stdout",
          "text": [
            "<class 'pandas.core.frame.DataFrame'>\n",
            "RangeIndex: 50 entries, 0 to 49\n",
            "Data columns (total 4 columns):\n",
            " #   Column         Non-Null Count  Dtype \n",
            "---  ------         --------------  ----- \n",
            " 0   commit-id      50 non-null     object\n",
            " 1   commit-sha     50 non-null     object\n",
            " 2   repo           33 non-null     object\n",
            " 3   patch-content  30 non-null     object\n",
            "dtypes: object(4)\n",
            "memory usage: 1.7+ KB\n",
            "None\n"
          ]
        }
      ]
    },
    {
      "cell_type": "code",
      "source": [
        "top_five = df.head(5)\n",
        "top_five"
      ],
      "metadata": {
        "colab": {
          "base_uri": "https://localhost:8080/",
          "height": 243
        },
        "id": "AKsVqxZGYPwr",
        "outputId": "f7934eb1-3ef5-486c-b0fe-376ce0427a78"
      },
      "execution_count": null,
      "outputs": [
        {
          "output_type": "execute_result",
          "data": {
            "text/plain": [
              "  commit-id                                commit-sha  \\\n",
              "0   d4d800c  d4d800ca1addc4141e03c5440a849bb64d1582cd   \n",
              "1   c1edbc1  c1edbc1be78c1451b7549a94ba061bbc6e03a0f3   \n",
              "2   9f2deda  9f2deda929513ebde215422395692767c5d7fde6   \n",
              "3   ba908ae  ba908ae88d5925f4f6783eb234cc4ea95017472b   \n",
              "4   2f10216  2f10216f84b55920de25422842a66260219e393f   \n",
              "\n",
              "                                       repo  \\\n",
              "0          https://github.com/django/django   \n",
              "1  https://github.com/tensorflow/tensorflow   \n",
              "2   https://github.com/python-pillow/Pillow   \n",
              "3      https://github.com/openstack/horizon   \n",
              "4          https://github.com/django/django   \n",
              "\n",
              "                                       patch-content  \n",
              "0  https://github.com/django/django/commit/d4d800...  \n",
              "1  https://github.com/tensorflow/tensorflow/commi...  \n",
              "2  https://github.com/python-pillow/Pillow/commit...  \n",
              "3  https://github.com/openstack/horizon/commit/ba...  \n",
              "4  https://github.com/django/django/commit/2f1021...  "
            ],
            "text/html": [
              "\n",
              "  <div id=\"df-4452ea3d-65d4-4608-8f14-fdf70e08a6e4\" class=\"colab-df-container\">\n",
              "    <div>\n",
              "<style scoped>\n",
              "    .dataframe tbody tr th:only-of-type {\n",
              "        vertical-align: middle;\n",
              "    }\n",
              "\n",
              "    .dataframe tbody tr th {\n",
              "        vertical-align: top;\n",
              "    }\n",
              "\n",
              "    .dataframe thead th {\n",
              "        text-align: right;\n",
              "    }\n",
              "</style>\n",
              "<table border=\"1\" class=\"dataframe\">\n",
              "  <thead>\n",
              "    <tr style=\"text-align: right;\">\n",
              "      <th></th>\n",
              "      <th>commit-id</th>\n",
              "      <th>commit-sha</th>\n",
              "      <th>repo</th>\n",
              "      <th>patch-content</th>\n",
              "    </tr>\n",
              "  </thead>\n",
              "  <tbody>\n",
              "    <tr>\n",
              "      <th>0</th>\n",
              "      <td>d4d800c</td>\n",
              "      <td>d4d800ca1addc4141e03c5440a849bb64d1582cd</td>\n",
              "      <td>https://github.com/django/django</td>\n",
              "      <td>https://github.com/django/django/commit/d4d800...</td>\n",
              "    </tr>\n",
              "    <tr>\n",
              "      <th>1</th>\n",
              "      <td>c1edbc1</td>\n",
              "      <td>c1edbc1be78c1451b7549a94ba061bbc6e03a0f3</td>\n",
              "      <td>https://github.com/tensorflow/tensorflow</td>\n",
              "      <td>https://github.com/tensorflow/tensorflow/commi...</td>\n",
              "    </tr>\n",
              "    <tr>\n",
              "      <th>2</th>\n",
              "      <td>9f2deda</td>\n",
              "      <td>9f2deda929513ebde215422395692767c5d7fde6</td>\n",
              "      <td>https://github.com/python-pillow/Pillow</td>\n",
              "      <td>https://github.com/python-pillow/Pillow/commit...</td>\n",
              "    </tr>\n",
              "    <tr>\n",
              "      <th>3</th>\n",
              "      <td>ba908ae</td>\n",
              "      <td>ba908ae88d5925f4f6783eb234cc4ea95017472b</td>\n",
              "      <td>https://github.com/openstack/horizon</td>\n",
              "      <td>https://github.com/openstack/horizon/commit/ba...</td>\n",
              "    </tr>\n",
              "    <tr>\n",
              "      <th>4</th>\n",
              "      <td>2f10216</td>\n",
              "      <td>2f10216f84b55920de25422842a66260219e393f</td>\n",
              "      <td>https://github.com/django/django</td>\n",
              "      <td>https://github.com/django/django/commit/2f1021...</td>\n",
              "    </tr>\n",
              "  </tbody>\n",
              "</table>\n",
              "</div>\n",
              "    <div class=\"colab-df-buttons\">\n",
              "\n",
              "  <div class=\"colab-df-container\">\n",
              "    <button class=\"colab-df-convert\" onclick=\"convertToInteractive('df-4452ea3d-65d4-4608-8f14-fdf70e08a6e4')\"\n",
              "            title=\"Convert this dataframe to an interactive table.\"\n",
              "            style=\"display:none;\">\n",
              "\n",
              "  <svg xmlns=\"http://www.w3.org/2000/svg\" height=\"24px\" viewBox=\"0 -960 960 960\">\n",
              "    <path d=\"M120-120v-720h720v720H120Zm60-500h600v-160H180v160Zm220 220h160v-160H400v160Zm0 220h160v-160H400v160ZM180-400h160v-160H180v160Zm440 0h160v-160H620v160ZM180-180h160v-160H180v160Zm440 0h160v-160H620v160Z\"/>\n",
              "  </svg>\n",
              "    </button>\n",
              "\n",
              "  <style>\n",
              "    .colab-df-container {\n",
              "      display:flex;\n",
              "      gap: 12px;\n",
              "    }\n",
              "\n",
              "    .colab-df-convert {\n",
              "      background-color: #E8F0FE;\n",
              "      border: none;\n",
              "      border-radius: 50%;\n",
              "      cursor: pointer;\n",
              "      display: none;\n",
              "      fill: #1967D2;\n",
              "      height: 32px;\n",
              "      padding: 0 0 0 0;\n",
              "      width: 32px;\n",
              "    }\n",
              "\n",
              "    .colab-df-convert:hover {\n",
              "      background-color: #E2EBFA;\n",
              "      box-shadow: 0px 1px 2px rgba(60, 64, 67, 0.3), 0px 1px 3px 1px rgba(60, 64, 67, 0.15);\n",
              "      fill: #174EA6;\n",
              "    }\n",
              "\n",
              "    .colab-df-buttons div {\n",
              "      margin-bottom: 4px;\n",
              "    }\n",
              "\n",
              "    [theme=dark] .colab-df-convert {\n",
              "      background-color: #3B4455;\n",
              "      fill: #D2E3FC;\n",
              "    }\n",
              "\n",
              "    [theme=dark] .colab-df-convert:hover {\n",
              "      background-color: #434B5C;\n",
              "      box-shadow: 0px 1px 3px 1px rgba(0, 0, 0, 0.15);\n",
              "      filter: drop-shadow(0px 1px 2px rgba(0, 0, 0, 0.3));\n",
              "      fill: #FFFFFF;\n",
              "    }\n",
              "  </style>\n",
              "\n",
              "    <script>\n",
              "      const buttonEl =\n",
              "        document.querySelector('#df-4452ea3d-65d4-4608-8f14-fdf70e08a6e4 button.colab-df-convert');\n",
              "      buttonEl.style.display =\n",
              "        google.colab.kernel.accessAllowed ? 'block' : 'none';\n",
              "\n",
              "      async function convertToInteractive(key) {\n",
              "        const element = document.querySelector('#df-4452ea3d-65d4-4608-8f14-fdf70e08a6e4');\n",
              "        const dataTable =\n",
              "          await google.colab.kernel.invokeFunction('convertToInteractive',\n",
              "                                                    [key], {});\n",
              "        if (!dataTable) return;\n",
              "\n",
              "        const docLinkHtml = 'Like what you see? Visit the ' +\n",
              "          '<a target=\"_blank\" href=https://colab.research.google.com/notebooks/data_table.ipynb>data table notebook</a>'\n",
              "          + ' to learn more about interactive tables.';\n",
              "        element.innerHTML = '';\n",
              "        dataTable['output_type'] = 'display_data';\n",
              "        await google.colab.output.renderOutput(dataTable, element);\n",
              "        const docLink = document.createElement('div');\n",
              "        docLink.innerHTML = docLinkHtml;\n",
              "        element.appendChild(docLink);\n",
              "      }\n",
              "    </script>\n",
              "  </div>\n",
              "\n",
              "\n",
              "<div id=\"df-84181bff-f8f2-413a-8861-59f9b94cbf21\">\n",
              "  <button class=\"colab-df-quickchart\" onclick=\"quickchart('df-84181bff-f8f2-413a-8861-59f9b94cbf21')\"\n",
              "            title=\"Suggest charts\"\n",
              "            style=\"display:none;\">\n",
              "\n",
              "<svg xmlns=\"http://www.w3.org/2000/svg\" height=\"24px\"viewBox=\"0 0 24 24\"\n",
              "     width=\"24px\">\n",
              "    <g>\n",
              "        <path d=\"M19 3H5c-1.1 0-2 .9-2 2v14c0 1.1.9 2 2 2h14c1.1 0 2-.9 2-2V5c0-1.1-.9-2-2-2zM9 17H7v-7h2v7zm4 0h-2V7h2v10zm4 0h-2v-4h2v4z\"/>\n",
              "    </g>\n",
              "</svg>\n",
              "  </button>\n",
              "\n",
              "<style>\n",
              "  .colab-df-quickchart {\n",
              "      --bg-color: #E8F0FE;\n",
              "      --fill-color: #1967D2;\n",
              "      --hover-bg-color: #E2EBFA;\n",
              "      --hover-fill-color: #174EA6;\n",
              "      --disabled-fill-color: #AAA;\n",
              "      --disabled-bg-color: #DDD;\n",
              "  }\n",
              "\n",
              "  [theme=dark] .colab-df-quickchart {\n",
              "      --bg-color: #3B4455;\n",
              "      --fill-color: #D2E3FC;\n",
              "      --hover-bg-color: #434B5C;\n",
              "      --hover-fill-color: #FFFFFF;\n",
              "      --disabled-bg-color: #3B4455;\n",
              "      --disabled-fill-color: #666;\n",
              "  }\n",
              "\n",
              "  .colab-df-quickchart {\n",
              "    background-color: var(--bg-color);\n",
              "    border: none;\n",
              "    border-radius: 50%;\n",
              "    cursor: pointer;\n",
              "    display: none;\n",
              "    fill: var(--fill-color);\n",
              "    height: 32px;\n",
              "    padding: 0;\n",
              "    width: 32px;\n",
              "  }\n",
              "\n",
              "  .colab-df-quickchart:hover {\n",
              "    background-color: var(--hover-bg-color);\n",
              "    box-shadow: 0 1px 2px rgba(60, 64, 67, 0.3), 0 1px 3px 1px rgba(60, 64, 67, 0.15);\n",
              "    fill: var(--button-hover-fill-color);\n",
              "  }\n",
              "\n",
              "  .colab-df-quickchart-complete:disabled,\n",
              "  .colab-df-quickchart-complete:disabled:hover {\n",
              "    background-color: var(--disabled-bg-color);\n",
              "    fill: var(--disabled-fill-color);\n",
              "    box-shadow: none;\n",
              "  }\n",
              "\n",
              "  .colab-df-spinner {\n",
              "    border: 2px solid var(--fill-color);\n",
              "    border-color: transparent;\n",
              "    border-bottom-color: var(--fill-color);\n",
              "    animation:\n",
              "      spin 1s steps(1) infinite;\n",
              "  }\n",
              "\n",
              "  @keyframes spin {\n",
              "    0% {\n",
              "      border-color: transparent;\n",
              "      border-bottom-color: var(--fill-color);\n",
              "      border-left-color: var(--fill-color);\n",
              "    }\n",
              "    20% {\n",
              "      border-color: transparent;\n",
              "      border-left-color: var(--fill-color);\n",
              "      border-top-color: var(--fill-color);\n",
              "    }\n",
              "    30% {\n",
              "      border-color: transparent;\n",
              "      border-left-color: var(--fill-color);\n",
              "      border-top-color: var(--fill-color);\n",
              "      border-right-color: var(--fill-color);\n",
              "    }\n",
              "    40% {\n",
              "      border-color: transparent;\n",
              "      border-right-color: var(--fill-color);\n",
              "      border-top-color: var(--fill-color);\n",
              "    }\n",
              "    60% {\n",
              "      border-color: transparent;\n",
              "      border-right-color: var(--fill-color);\n",
              "    }\n",
              "    80% {\n",
              "      border-color: transparent;\n",
              "      border-right-color: var(--fill-color);\n",
              "      border-bottom-color: var(--fill-color);\n",
              "    }\n",
              "    90% {\n",
              "      border-color: transparent;\n",
              "      border-bottom-color: var(--fill-color);\n",
              "    }\n",
              "  }\n",
              "</style>\n",
              "\n",
              "  <script>\n",
              "    async function quickchart(key) {\n",
              "      const quickchartButtonEl =\n",
              "        document.querySelector('#' + key + ' button');\n",
              "      quickchartButtonEl.disabled = true;  // To prevent multiple clicks.\n",
              "      quickchartButtonEl.classList.add('colab-df-spinner');\n",
              "      try {\n",
              "        const charts = await google.colab.kernel.invokeFunction(\n",
              "            'suggestCharts', [key], {});\n",
              "      } catch (error) {\n",
              "        console.error('Error during call to suggestCharts:', error);\n",
              "      }\n",
              "      quickchartButtonEl.classList.remove('colab-df-spinner');\n",
              "      quickchartButtonEl.classList.add('colab-df-quickchart-complete');\n",
              "    }\n",
              "    (() => {\n",
              "      let quickchartButtonEl =\n",
              "        document.querySelector('#df-84181bff-f8f2-413a-8861-59f9b94cbf21 button');\n",
              "      quickchartButtonEl.style.display =\n",
              "        google.colab.kernel.accessAllowed ? 'block' : 'none';\n",
              "    })();\n",
              "  </script>\n",
              "</div>\n",
              "\n",
              "  <div id=\"id_3420c9f9-d513-4a2a-8708-4b0edd234ec0\">\n",
              "    <style>\n",
              "      .colab-df-generate {\n",
              "        background-color: #E8F0FE;\n",
              "        border: none;\n",
              "        border-radius: 50%;\n",
              "        cursor: pointer;\n",
              "        display: none;\n",
              "        fill: #1967D2;\n",
              "        height: 32px;\n",
              "        padding: 0 0 0 0;\n",
              "        width: 32px;\n",
              "      }\n",
              "\n",
              "      .colab-df-generate:hover {\n",
              "        background-color: #E2EBFA;\n",
              "        box-shadow: 0px 1px 2px rgba(60, 64, 67, 0.3), 0px 1px 3px 1px rgba(60, 64, 67, 0.15);\n",
              "        fill: #174EA6;\n",
              "      }\n",
              "\n",
              "      [theme=dark] .colab-df-generate {\n",
              "        background-color: #3B4455;\n",
              "        fill: #D2E3FC;\n",
              "      }\n",
              "\n",
              "      [theme=dark] .colab-df-generate:hover {\n",
              "        background-color: #434B5C;\n",
              "        box-shadow: 0px 1px 3px 1px rgba(0, 0, 0, 0.15);\n",
              "        filter: drop-shadow(0px 1px 2px rgba(0, 0, 0, 0.3));\n",
              "        fill: #FFFFFF;\n",
              "      }\n",
              "    </style>\n",
              "    <button class=\"colab-df-generate\" onclick=\"generateWithVariable('top_five')\"\n",
              "            title=\"Generate code using this dataframe.\"\n",
              "            style=\"display:none;\">\n",
              "\n",
              "  <svg xmlns=\"http://www.w3.org/2000/svg\" height=\"24px\"viewBox=\"0 0 24 24\"\n",
              "       width=\"24px\">\n",
              "    <path d=\"M7,19H8.4L18.45,9,17,7.55,7,17.6ZM5,21V16.75L18.45,3.32a2,2,0,0,1,2.83,0l1.4,1.43a1.91,1.91,0,0,1,.58,1.4,1.91,1.91,0,0,1-.58,1.4L9.25,21ZM18.45,9,17,7.55Zm-12,3A5.31,5.31,0,0,0,4.9,8.1,5.31,5.31,0,0,0,1,6.5,5.31,5.31,0,0,0,4.9,4.9,5.31,5.31,0,0,0,6.5,1,5.31,5.31,0,0,0,8.1,4.9,5.31,5.31,0,0,0,12,6.5,5.46,5.46,0,0,0,6.5,12Z\"/>\n",
              "  </svg>\n",
              "    </button>\n",
              "    <script>\n",
              "      (() => {\n",
              "      const buttonEl =\n",
              "        document.querySelector('#id_3420c9f9-d513-4a2a-8708-4b0edd234ec0 button.colab-df-generate');\n",
              "      buttonEl.style.display =\n",
              "        google.colab.kernel.accessAllowed ? 'block' : 'none';\n",
              "\n",
              "      buttonEl.onclick = () => {\n",
              "        google.colab.notebook.generateWithVariable('top_five');\n",
              "      }\n",
              "      })();\n",
              "    </script>\n",
              "  </div>\n",
              "\n",
              "    </div>\n",
              "  </div>\n"
            ],
            "application/vnd.google.colaboratory.intrinsic+json": {
              "type": "dataframe",
              "variable_name": "top_five",
              "summary": "{\n  \"name\": \"top_five\",\n  \"rows\": 5,\n  \"fields\": [\n    {\n      \"column\": \"commit-id\",\n      \"properties\": {\n        \"dtype\": \"string\",\n        \"num_unique_values\": 5,\n        \"samples\": [\n          \"c1edbc1\",\n          \"2f10216\",\n          \"9f2deda\"\n        ],\n        \"semantic_type\": \"\",\n        \"description\": \"\"\n      }\n    },\n    {\n      \"column\": \"commit-sha\",\n      \"properties\": {\n        \"dtype\": \"string\",\n        \"num_unique_values\": 5,\n        \"samples\": [\n          \"c1edbc1be78c1451b7549a94ba061bbc6e03a0f3\",\n          \"2f10216f84b55920de25422842a66260219e393f\",\n          \"9f2deda929513ebde215422395692767c5d7fde6\"\n        ],\n        \"semantic_type\": \"\",\n        \"description\": \"\"\n      }\n    },\n    {\n      \"column\": \"repo\",\n      \"properties\": {\n        \"dtype\": \"string\",\n        \"num_unique_values\": 4,\n        \"samples\": [\n          \"https://github.com/tensorflow/tensorflow\",\n          \"https://github.com/openstack/horizon\",\n          \"https://github.com/django/django\"\n        ],\n        \"semantic_type\": \"\",\n        \"description\": \"\"\n      }\n    },\n    {\n      \"column\": \"patch-content\",\n      \"properties\": {\n        \"dtype\": \"string\",\n        \"num_unique_values\": 5,\n        \"samples\": [\n          \"https://github.com/tensorflow/tensorflow/commit/c1edbc1be78c1451b7549a94ba061bbc6e03a0f3.patch\",\n          \"https://github.com/django/django/commit/2f10216f84b55920de25422842a66260219e393f.patch\",\n          \"https://github.com/python-pillow/Pillow/commit/9f2deda929513ebde215422395692767c5d7fde6.patch\"\n        ],\n        \"semantic_type\": \"\",\n        \"description\": \"\"\n      }\n    }\n  ]\n}"
            }
          },
          "metadata": {},
          "execution_count": 8
        }
      ]
    },
    {
      "cell_type": "code",
      "source": [
        "import re\n",
        "import requests\n",
        "\n",
        "def extract_commit_message(row):\n",
        "    patch_url = row['patch-content']\n",
        "    if pd.isna(patch_url):\n",
        "        return None\n",
        "\n",
        "    try:\n",
        "        response = requests.get(patch_url)\n",
        "        if response.status_code == 200:\n",
        "            patch_content = response.text\n",
        "            pattern = r'^Subject: (?P<commit_message>.+?)(?=^---|\\Z)'\n",
        "            match = re.search(pattern, patch_content, re.DOTALL | re.MULTILINE)\n",
        "            if match:\n",
        "                return match.group('commit_message').strip()\n",
        "    except Exception as e:\n",
        "        print(f\"Error fetching patch content from {patch_url}: {e}\")\n",
        "    return None"
      ],
      "metadata": {
        "id": "aXZnw09Oi-qb"
      },
      "execution_count": null,
      "outputs": []
    },
    {
      "cell_type": "code",
      "source": [
        "# top_five.loc[:, 'commit-message'] = top_five['patch-content'].apply(extract_commit_message)\n",
        "df['commit-message'] = df.apply(lambda row: extract_commit_message(row), axis=1)\n",
        "# df['commit-message'] = df.apply(extract_commit_message, axis=1)"
      ],
      "metadata": {
        "id": "V-PsaHjwivxV"
      },
      "execution_count": null,
      "outputs": []
    },
    {
      "cell_type": "code",
      "source": [
        "df.to_excel('/content/drive/MyDrive/Colab Notebooks/busplainer-test-50/independent-security-50_updated_with_commit_message.xlsx', index=False)"
      ],
      "metadata": {
        "id": "oGnkUcSBwknd"
      },
      "execution_count": null,
      "outputs": []
    },
    {
      "cell_type": "code",
      "source": [],
      "metadata": {
        "id": "CtXiBC3gBwdG"
      },
      "execution_count": null,
      "outputs": []
    },
    {
      "cell_type": "markdown",
      "source": [
        "Take 50 samples from the test set"
      ],
      "metadata": {
        "id": "CVTk-K1mBzsK"
      }
    },
    {
      "cell_type": "code",
      "source": [
        "new_df = pd.read_csv(\"/content/drive/MyDrive/Colab Notebooks/busplainer-test-50/test-sbt-random-explain.csv\")"
      ],
      "metadata": {
        "id": "B54wpm3NBzO0"
      },
      "execution_count": null,
      "outputs": []
    },
    {
      "cell_type": "code",
      "source": [
        "new_df.info()"
      ],
      "metadata": {
        "colab": {
          "base_uri": "https://localhost:8080/"
        },
        "id": "d0kAI7T-ESek",
        "outputId": "dce23f48-e207-448f-ac32-6d66bd072fb9"
      },
      "execution_count": null,
      "outputs": [
        {
          "output_type": "stream",
          "name": "stdout",
          "text": [
            "<class 'pandas.core.frame.DataFrame'>\n",
            "RangeIndex: 9270 entries, 0 to 9269\n",
            "Data columns (total 15 columns):\n",
            " #   Column          Non-Null Count  Dtype \n",
            "---  ------          --------------  ----- \n",
            " 0   commit_sha      9270 non-null   object\n",
            " 1   commit_node_id  9270 non-null   object\n",
            " 2   commit_url      9270 non-null   object\n",
            " 3   commit_message  9270 non-null   object\n",
            " 4   sha             9270 non-null   object\n",
            " 5   filename        9270 non-null   object\n",
            " 6   contents_url    9270 non-null   object\n",
            " 7   patch           9270 non-null   object\n",
            " 8   author.date     8360 non-null   object\n",
            " 9   committer.date  8360 non-null   object\n",
            " 10  path            9270 non-null   object\n",
            " 11  content         9270 non-null   object\n",
            " 12  fix_commit_sha  9270 non-null   object\n",
            " 13  sbt             9270 non-null   object\n",
            " 14  repo            9270 non-null   object\n",
            "dtypes: object(15)\n",
            "memory usage: 1.1+ MB\n"
          ]
        }
      ]
    },
    {
      "cell_type": "code",
      "source": [
        "top_50_records = new_df[['commit_url', 'commit_message', 'content',]].head(50)"
      ],
      "metadata": {
        "id": "7YKBRLqXWB7-"
      },
      "execution_count": null,
      "outputs": []
    },
    {
      "cell_type": "code",
      "source": [
        "top_50_records.to_csv('/content/drive/MyDrive/Colab Notebooks/busplainer-test-50/bugsplainer-top-50-records.csv', index=False)"
      ],
      "metadata": {
        "id": "FAHcoDonWWGt"
      },
      "execution_count": null,
      "outputs": []
    },
    {
      "cell_type": "code",
      "source": [
        "import json\n",
        "\n",
        "with open('/content/drive/MyDrive/Colab Notebooks/pysecdb.json', 'r') as file:\n",
        "    records = json.loads(file.read())\n",
        "\n",
        "max_length = float('-inf')\n",
        "min_length = 20000\n",
        "count = 0\n",
        "shorter_data = []\n",
        "\n",
        "for record in records:\n",
        "  if record[\"label\"]==\"security\":\n",
        "    content_length = len(str(record['content']))\n",
        "\n",
        "    if content_length > max_length:\n",
        "        max_length = content_length\n",
        "    if content_length < min_length:\n",
        "        # min_length = content_length\n",
        "        count+=1\n",
        "        shorter_data.append(record)\n",
        "\n",
        "print(\"Maximum length:\", max_length)\n",
        "print(\"Minimum length:\", min_length)\n",
        "print(count)\n",
        "\n",
        "with open('/content/drive/MyDrive/Colab Notebooks/pysecdb_shorter.json', 'w') as file:\n",
        "    json.dump(shorter_data, file, indent=4)\n"
      ],
      "metadata": {
        "colab": {
          "base_uri": "https://localhost:8080/"
        },
        "id": "qTIl1OaTeo7j",
        "outputId": "8548849d-7645-406f-99a5-08ae7051f556"
      },
      "execution_count": null,
      "outputs": [
        {
          "output_type": "stream",
          "name": "stdout",
          "text": [
            "Maximum length: 4379238\n",
            "Minimum length: 20000\n",
            "1174\n"
          ]
        }
      ]
    },
    {
      "cell_type": "code",
      "source": [
        "import random\n",
        "\n",
        "random_shorter_data = random.sample(shorter_data, 100)\n",
        "\n",
        "with open('/content/drive/MyDrive/Colab Notebooks/pysecdb_random_shorter.json', 'w') as file:\n",
        "  json.dump(random_shorter_data, file, indent=4)"
      ],
      "metadata": {
        "id": "1O7JKLjK-B5k"
      },
      "execution_count": null,
      "outputs": []
    },
    {
      "cell_type": "code",
      "source": [
        "import pandas as pd\n",
        "\n",
        "df = pd.read_csv('/content/drive/MyDrive/Colab Notebooks/busplainer-test-50/test-sbt-random-explain.csv')\n",
        "\n",
        "# json_data = df.to_json(orient='records')\n",
        "\n",
        "# with open('output.json', 'w') as json_file:\n",
        "#     json_file.write(json_data)"
      ],
      "metadata": {
        "id": "hone__b5DJ1k"
      },
      "execution_count": null,
      "outputs": []
    },
    {
      "cell_type": "code",
      "source": [
        "df.info()"
      ],
      "metadata": {
        "colab": {
          "base_uri": "https://localhost:8080/"
        },
        "id": "brRw8H4lEL3t",
        "outputId": "a1ed6935-117b-4a1e-b66a-1f245f925fd7"
      },
      "execution_count": null,
      "outputs": [
        {
          "output_type": "stream",
          "name": "stdout",
          "text": [
            "<class 'pandas.core.frame.DataFrame'>\n",
            "RangeIndex: 9270 entries, 0 to 9269\n",
            "Data columns (total 15 columns):\n",
            " #   Column          Non-Null Count  Dtype \n",
            "---  ------          --------------  ----- \n",
            " 0   commit_sha      9270 non-null   object\n",
            " 1   commit_node_id  9270 non-null   object\n",
            " 2   commit_url      9270 non-null   object\n",
            " 3   commit_message  9270 non-null   object\n",
            " 4   sha             9270 non-null   object\n",
            " 5   filename        9270 non-null   object\n",
            " 6   contents_url    9270 non-null   object\n",
            " 7   patch           9270 non-null   object\n",
            " 8   author.date     8360 non-null   object\n",
            " 9   committer.date  8360 non-null   object\n",
            " 10  path            9270 non-null   object\n",
            " 11  content         9270 non-null   object\n",
            " 12  fix_commit_sha  9270 non-null   object\n",
            " 13  sbt             9270 non-null   object\n",
            " 14  repo            9270 non-null   object\n",
            "dtypes: object(15)\n",
            "memory usage: 1.1+ MB\n"
          ]
        }
      ]
    },
    {
      "cell_type": "code",
      "source": [
        "import random\n",
        "import json\n",
        "\n",
        "cropped_cols_data = df[['commit_sha', 'repo', 'commit_url']].sample(100)\n",
        "print(cropped_cols_data[0:5])"
      ],
      "metadata": {
        "colab": {
          "base_uri": "https://localhost:8080/"
        },
        "id": "DH2zxAhAEuW4",
        "outputId": "af6ca3d0-3d07-4bad-ccf3-2bf81a93a9a9"
      },
      "execution_count": null,
      "outputs": [
        {
          "output_type": "stream",
          "name": "stdout",
          "text": [
            "                                    commit_sha               repo  \\\n",
            "92    d19973a357bdb942caf523cdfadefc4510bbe3dc      frappe.frappe   \n",
            "8273  b6cc729a047c91e2efd469d3378a0688cdd42a28       dbiir.UER-py   \n",
            "7887  5462216bb3d75472bedca2f8043116a4b53a2ff4  dbt-labs.dbt-core   \n",
            "4823  60ccdf8a7a98c748833fa0044a22b5b71df80641   nonebot.nonebot2   \n",
            "8666  b2d1d44668d44885d8a0ac496dd59136a8d1d1cc      espnet.espnet   \n",
            "\n",
            "                                             commit_url  \n",
            "92    https://api.github.com/repos/frappe/frappe/com...  \n",
            "8273  https://api.github.com/repos/dbiir/UER-py/comm...  \n",
            "7887  https://api.github.com/repos/dbt-labs/dbt-core...  \n",
            "4823  https://api.github.com/repos/nonebot/nonebot2/...  \n",
            "8666  https://api.github.com/repos/espnet/espnet/com...  \n"
          ]
        }
      ]
    },
    {
      "cell_type": "code",
      "source": [
        "json_list = json.loads(json.dumps(list(cropped_cols_data.T.to_dict().values())))\n",
        "print(len(json_list))\n",
        "print(json_list[0:5])\n",
        "\n",
        "with open('/content/drive/MyDrive/Colab Notebooks/bugsplainer_100_random.json', 'w') as json_file:\n",
        "    json.dump(json_list, json_file, indent=4)\n"
      ],
      "metadata": {
        "colab": {
          "base_uri": "https://localhost:8080/"
        },
        "id": "0GMkLYC1Go9h",
        "outputId": "764f2b6c-30e3-4fea-930a-b9d8e6b9e01e"
      },
      "execution_count": null,
      "outputs": [
        {
          "output_type": "stream",
          "name": "stdout",
          "text": [
            "100\n",
            "[{'commit_sha': 'd19973a357bdb942caf523cdfadefc4510bbe3dc', 'repo': 'frappe.frappe', 'commit_url': 'https://api.github.com/repos/frappe/frappe/commits/d19973a357bdb942caf523cdfadefc4510bbe3dc'}, {'commit_sha': 'b6cc729a047c91e2efd469d3378a0688cdd42a28', 'repo': 'dbiir.UER-py', 'commit_url': 'https://api.github.com/repos/dbiir/UER-py/commits/b6cc729a047c91e2efd469d3378a0688cdd42a28'}, {'commit_sha': '5462216bb3d75472bedca2f8043116a4b53a2ff4', 'repo': 'dbt-labs.dbt-core', 'commit_url': 'https://api.github.com/repos/dbt-labs/dbt-core/commits/5462216bb3d75472bedca2f8043116a4b53a2ff4'}, {'commit_sha': '60ccdf8a7a98c748833fa0044a22b5b71df80641', 'repo': 'nonebot.nonebot2', 'commit_url': 'https://api.github.com/repos/nonebot/nonebot2/commits/60ccdf8a7a98c748833fa0044a22b5b71df80641'}, {'commit_sha': 'b2d1d44668d44885d8a0ac496dd59136a8d1d1cc', 'repo': 'espnet.espnet', 'commit_url': 'https://api.github.com/repos/espnet/espnet/commits/b2d1d44668d44885d8a0ac496dd59136a8d1d1cc'}]\n"
          ]
        }
      ]
    },
    {
      "cell_type": "code",
      "source": [],
      "metadata": {
        "id": "4eaRPb4MC8fZ"
      },
      "execution_count": null,
      "outputs": []
    }
  ]
}